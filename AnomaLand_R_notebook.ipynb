{
 "cells": [
  {
   "cell_type": "raw",
   "metadata": {},
   "source": [
    "---\n",
    "title: \"Calculating Anomalies in Copernicus Global Land Vegetation-Related Products\"\n",
    "author: \"Xavier Rotllan-Puig (xavier.rotllan.puig@aster-projects.cat) and Michael Cherlet (michael.cherlet@ec.europa.eu)\"\n",
    "output:\n",
    "  html_document:\n",
    "    df_print: paged\n",
    "note: The .ipynb has been translated from .Rmd using 'jupytext'\n",
    "---"
   ]
  },
  {
   "cell_type": "markdown",
   "metadata": {},
   "source": [
    "# Purpose\n",
    "\n",
    "This notebook shows how to find/calculate anomalies in Copernicus Global Land Service (CGLS)  vegetation-related products (i.e. NDVI), based on the diferences of one product with the Long Term Statistics (LTS) product provided by the CGLS. We use R-based packages and functions for the calculations.\n",
    "\n",
    "Currently, CGLS provides only LTS (i.e. average of time series 1999-2019) for NDVI. However, the rationale behind the methodology showed in this notebook can be implemented to any other product, bearing in mind that the reference product has to be calculated and/or provided by the user. \n",
    "\n",
    "Another consideration is that the NDVI-LTS product provided by the CGLS has a resolution of ca. 1km, while the new products provided as of July 2020 have a resolution of ca. 333m. This means that the product to be analysed has to be resampled accordingly (see below). For more details on the products, please see the description and Product User Manuals documentation at https://land.copernicus.eu/global/products/\n"
   ]
  },
  {
   "cell_type": "markdown",
   "metadata": {},
   "source": [
    "# Step 1: Download the input product files\n",
    "\n",
    "There are several options to obtain the data from the CGLS servers. For example, you can choose to automatically download the products using the functions found in https://github.com/cgls/Copernicus-Global-Land-Service-Data-Download-with-R. Alternatively, you can download the data directly from the [website](https://land.copernicus.vgt.vito.be/PDF/portal/Application.html#Browse;Root=513186;Time=NORMAL,NORMAL,-1,,,-1,,). For either option, you have to be registered.\n"
   ]
  },
  {
   "cell_type": "markdown",
   "metadata": {},
   "source": [
    "# Step 2: Reading in and pre-processing the data\n",
    "\n",
    "Once the data set is available, *ncdf4* and *raster* packages functionalities are used to prepare it for the calculations. "
   ]
  },
  {
   "cell_type": "code",
   "execution_count": null,
   "metadata": {},
   "outputs": [],
   "source": [
    "if(require(ncdf4) == FALSE){install.packages(\"ncdf4\", repos = \"https://cloud.r-project.org\"); library(ncdf4)} else {library(ncdf4)}\n",
    "if(require(raster) == FALSE){install.packages(\"raster\", repos = \"https://cloud.r-project.org\"); library(raster)} else {library(raster)}\n",
    "\n",
    "\n",
    "# Defining directory with the files\n",
    "dirctry <- \"<your directory>\"\n",
    "setwd(dirctry)"
   ]
  },
  {
   "cell_type": "markdown",
   "metadata": {},
   "source": [
    "&nbsp;"
   ]
  },
  {
   "cell_type": "markdown",
   "metadata": {},
   "source": [
    "In order to illustrate this notebook, we will make the calculations for a particular area of interest (AOI), the Horn of Africa. For that, we will subset this AOI."
   ]
  },
  {
   "cell_type": "code",
   "execution_count": null,
   "metadata": {},
   "outputs": [],
   "source": [
    "# Coordinates for subsetting AOI\n",
    "coords4subset <- c(21, 53, -6.5, 22)  # Horn of Africa"
   ]
  },
  {
   "cell_type": "markdown",
   "metadata": {},
   "source": [
    "&nbsp;"
   ]
  },
  {
   "cell_type": "markdown",
   "metadata": {},
   "source": [
    "We will calculate the anomalies for a particular dekad (i.e. March 1). However, we might want to run the analysis for an entire month/quarter/year. In this case we should make averages of the dekads (i.e. period of 10 days; CGLS provides the products by dekad).\n",
    "\n",
    "We start reading in the LTS (1999-2019) dekad(s)."
   ]
  },
  {
   "cell_type": "code",
   "execution_count": null,
   "metadata": {},
   "outputs": [],
   "source": [
    "# LTS files avialable/to be analised\n",
    "all_files <- list.files(pattern = \"nc$\", full.names = TRUE)\n",
    "all_files <- all_files[grepl(\"LTS\", all_files)]\n",
    "all_files\n",
    "\n",
    "# Extracting the dekads to be analysed\n",
    "all_files1 <- all_files\n",
    "all_files1 <- gsub(\"./c_gls_NDVI-LTS_1999-2019-\", \"\", all_files1)\n",
    "all_files1 <- gsub(\"_GLOBE_VGT-PROBAV_V3.0.1.nc\", \"\", all_files1)\n",
    "dekads <- all_files1\n",
    "dekads\n",
    "\n",
    "# Alternatively, it/they can be hardcoded\n",
    "dekads <- c(\"0301\", \"0311\", \"0321\")\n",
    "\n",
    "# In our case\n",
    "dekads <- c(\"0301\")\n",
    "\n",
    "# Selecting LTS files\n",
    "all_files <- all_files[grepl(dekads, all_files)]\n",
    "all_files"
   ]
  },
  {
   "cell_type": "markdown",
   "metadata": {},
   "source": [
    "&nbsp;"
   ]
  },
  {
   "cell_type": "markdown",
   "metadata": {},
   "source": [
    "The NDVI-LTS product has several variables. We will need \"mean\" and \"stdev\" (i.e. standard deviation). We create a *RasterBrick* with both variables and, then, we crop them to the AOI. However, before the coordinates of the new AOI can be used, they have to be adjusted to coincide with the CGLS products grid to be able to properly be compared with the 333m product after being resampled to 1km. See https://github.com/xavi-rp/ResampleTool_notebook for further explanations on this matter.\n",
    "\n",
    "Please notice as well that, when using *raster::raster()* for reading *nc* files, there are certain floating point imprecisions for the scalation of the values, stored in the file as digital numbers, into real physical values. R uses IEEE-754-Standard double-precision floating-point numbers, whereas the values in the *netCDF* are stored as float32. For this reason, the NA values in the *RasterBrick* need to be slightly adjusted."
   ]
  },
  {
   "cell_type": "code",
   "execution_count": null,
   "metadata": {},
   "outputs": [],
   "source": [
    "# Creating a RasterBrick with adjusted coordinates for LTS (1999-2019) \n",
    "# We run everything in a loop in case there are more than one dekad to be prepared\n",
    "for(fl in 1:length(all_files)){\n",
    "  ndvi_lts_1km_rstr <- raster(all_files[fl], varname = \"mean\")\n",
    "  ndvi_lts_1km_rstr_sd <- raster(all_files[fl], varname = \"stdev\")\n",
    "  ndvi_lts_1km_rstr <- brick(ndvi_lts_1km_rstr, ndvi_lts_1km_rstr_sd)\n",
    "  names(ndvi_lts_1km_rstr) <- c(\"mean\", \"sd\")\n",
    "  \n",
    "  # Adjusting my_extent to coordinates belonging to the 1km grid (if necessary)\n",
    "  my_extent <- extent(coords4subset)\n",
    "    \n",
    "  # The following vectors contain Long and Lat coordinates, respectively, of the 1km grid (cell boundaries):\n",
    "  x_ext <- seq((-180 - ((1 / 112) / 2)), 180, (1/112))\n",
    "  y_ext <- seq((80 + ((1 / 112) / 2)), - 60, - (1/112))\n",
    "    \n",
    "  if(!all(round(my_extent[1], 7) %in% round(x_ext, 7) &\n",
    "          round(my_extent[2], 7) %in% round(x_ext, 7) &\n",
    "          round(my_extent[3], 7) %in% round(y_ext, 7) &\n",
    "          round(my_extent[4], 7) %in% round(y_ext, 7))){\n",
    "    for(crd in 1:length(as.vector(my_extent))){\n",
    "      if(crd <= 2){\n",
    "        my_extent[crd] <- x_ext[order(abs(x_ext - my_extent[crd]))][1]\n",
    "      }else{\n",
    "        my_extent[crd] <- y_ext[order(abs(y_ext - my_extent[crd]))][1]\n",
    "      }\n",
    "    }\n",
    "  }\n",
    "  \n",
    "  # Cropping to the AOI\n",
    "  ndvi_lts_1km_rstr <- crop(ndvi_lts_1km_rstr, my_extent)\n",
    "  \n",
    "  # Adjusting NAs\n",
    "  ndvi_lts_1km_rstr_clean <- ndvi_lts_1km_rstr$mean\n",
    "  ndvi_lts_1km_rstr_clean[ndvi_lts_1km_rstr_clean >= 0.9359999] <- NA\n",
    "                                                        \n",
    "  ndvi_lts_1km_rstr_clean_sd <- ndvi_lts_1km_rstr$sd\n",
    "  ndvi_lts_1km_rstr_clean_sd[ndvi_lts_1km_rstr_clean_sd >= 1.016] <- NA\n",
    "    \n",
    "  ndvi_lts_1km_rstr_clean <- brick(ndvi_lts_1km_rstr_clean, ndvi_lts_1km_rstr_clean_sd)\n",
    "  names(ndvi_lts_1km_rstr_clean) <- c(\"mean\", \"sd\")\n",
    "    \n",
    "  # Saving prepared RasterBrick as a GeoTiff file\n",
    "  writeRaster(ndvi_lts_1km_rstr_clean, filename = paste0(\"ndvi_lts_1km_rstr_clean_\", dekads[fl], \".tif\"), overwrite = TRUE)\n",
    "  \n",
    "}"
   ]
  },
  {
   "cell_type": "markdown",
   "metadata": {},
   "source": [
    "&nbsp;"
   ]
  },
  {
   "cell_type": "markdown",
   "metadata": {},
   "source": [
    "Then, it is the turn of the actual dekad(s) we want to analise. The process is the same except that the actual product has to be resampled from 333m to 1km. For this process we will use the method descrived in this [Notebook](https://github.com/xavi-rp/ResampleTool_notebook) "
   ]
  },
  {
   "cell_type": "code",
   "execution_count": null,
   "metadata": {},
   "outputs": [],
   "source": [
    "# Actual avialable files \n",
    "all_files <- list.files(pattern = \"nc$\", full.names = TRUE)\n",
    "all_files <- all_files[!grepl(\"LTS\", all_files)]\n",
    "\n",
    "# Selecting actual files to be analised\n",
    "all_files <- all_files[grepl(dekads, all_files)]\n",
    "all_files\n",
    "\n",
    "for(fl in 1:length(all_files)){\n",
    "\n",
    "  ndvi_300m_rstr <- raster(all_files[fl])\n",
    "  \n",
    "  # Adjusting my_extent to coordinates belonging to the 1km grid (if necessary)\n",
    "  my_extent <- extent(coords4subset)\n",
    "  \n",
    "  # The following vectors contain Long and Lat coordinates, respectively, of the 1km grid (cell boundaries):\n",
    "  x_ext <- seq((-180 - ((1 / 112) / 2)), 180, (1/112))\n",
    "  y_ext <- seq((80 + ((1 / 112) / 2)), - 60, - (1/112))\n",
    "  \n",
    "  if(!all(round(my_extent[1], 7) %in% round(x_ext, 7) &\n",
    "          round(my_extent[2], 7) %in% round(x_ext, 7) &\n",
    "          round(my_extent[3], 7) %in% round(y_ext, 7) &\n",
    "          round(my_extent[4], 7) %in% round(y_ext, 7))){\n",
    "    for(crd in 1:length(as.vector(my_extent))){\n",
    "      if(crd <= 2){\n",
    "        my_extent[crd] <- x_ext[order(abs(x_ext - my_extent[crd]))][1]\n",
    "      }else{\n",
    "        my_extent[crd] <- y_ext[order(abs(y_ext - my_extent[crd]))][1]\n",
    "      }\n",
    "    }\n",
    "    \n",
    "    # Now we can crop the 300m raster to the AOI\n",
    "    ndvi_300m_rstr <- crop(ndvi_300m_rstr, my_extent)\n",
    "  }\n",
    "\n",
    "  # Adjusting NAs\n",
    "  ndvi_300m_rstr_clean <- ndvi_300m_rstr\n",
    "  ndvi_300m_rstr_clean[ndvi_300m_rstr_clean >= 0.9359999] <- NA   \n",
    "  \n",
    "  # Saving prepared RasterBrick as a GeoTiff file\n",
    "  writeRaster(ndvi_300m_rstr_clean, filename = paste0(\"ndvi_300m_rstr_clean_\", dekads[fl], \".tif\"), overwrite = TRUE)\n",
    "  \n",
    "  \n",
    "  ## Resampling using the 'Aggregation' method\n",
    "  # see https://github.com/xavi-rp/ResampleTool_notebook\n",
    "  mean_w.cond <- function(x, ...){ # mean including condition 'minimum 5 valid pixels'\n",
    "    n_valid <- sum(!is.na(x)) # number of cells with valid value\n",
    "    if(n_valid > 4){\n",
    "      dts <- list(...)\n",
    "      if(is.null(dts$na_rm)) dts$na_rm <- TRUE\n",
    "      x_mean <- mean(x, na.rm = dts$na_rm)\n",
    "      return(x_mean)\n",
    "    }else{\n",
    "      x_mean <- NA\n",
    "      return(x_mean)\n",
    "    }\n",
    "  }\n",
    "  \n",
    "  aggr_method <- \"mean_w.cond\"\n",
    "  ndvi_1km_rstr_clean <- aggregate(ndvi_300m_rstr_clean,\n",
    "                                   fact = 3, # from 333m to 1km  \n",
    "                                   fun = aggr_method, \n",
    "                                   na.rm = TRUE, \n",
    "                                   filename = paste0(\"ndvi_1km_rstr_clean_\", dekads[fl], \".tif\"),\n",
    "                                   overwrite = TRUE)\n",
    "}"
   ]
  },
  {
   "cell_type": "markdown",
   "metadata": {},
   "source": [
    "&nbsp;"
   ]
  },
  {
   "cell_type": "markdown",
   "metadata": {},
   "source": [
    "Now, if we want to calculate the anomalies for a period longer than a dekad (e.g. a month), we have to average the necessary dekads. "
   ]
  },
  {
   "cell_type": "code",
   "execution_count": null,
   "metadata": {
    "lines_to_next_cell": 2
   },
   "outputs": [],
   "source": [
    "# Averaging ctual dekads\n",
    "all_files <- list.files(pattern = \"tif$\", full.names = TRUE)\n",
    "all_files <- all_files[!grepl(\"300\", all_files)]\n",
    "all_files <- all_files[!grepl(\"lts\", all_files)]\n",
    "all_files <- all_files[!grepl(\"anomalies\", all_files)]\n",
    "all_files <- all_files[grepl(\"clean\", all_files)]\n",
    "all_files\n",
    "\n",
    "ndvi_1km_avrgPeriod <- raster(all_files[1])\n",
    "for(fl in 2:length(all_files)){\n",
    "  ndvi_1km_avrgPeriod <- stack(ndvi_1km_avrgPeriod, raster(all_files[fl]))\n",
    "}\n",
    "\n",
    "# Parallelising the process\n",
    "cores2use <- 3\n",
    "beginCluster(cores2use)\n",
    "ndvi_1km_avrgPeriod <- clusterR(ndvi_1km_avrgPeriod, calc, args = list(fun = mean))\n",
    "endCluster()\n",
    "\n",
    "writeRaster(ndvi_1km_avrgPeriod, filename = paste0(\"ndvi_1km_avrg_\", \"<Period>\", \".tif\"), overwrite = TRUE)\n"
   ]
  },
  {
   "cell_type": "markdown",
   "metadata": {},
   "source": [
    "For the LTS the method is similar, but remember that the average of the means can be directly calculated, but the average of the SD can't. For the \"averaged\" SD, we have to calculate square root of the pooled (or weighted) variances (see e.g. http://www.talkstats.com/threads/an-average-of-standard-deviations.14523/)"
   ]
  },
  {
   "cell_type": "code",
   "execution_count": null,
   "metadata": {},
   "outputs": [],
   "source": [
    "# Averaging Long Term Statistics\n",
    "all_files <- list.files(pattern = \"tif$\", full.names = TRUE)\n",
    "all_files <- all_files[grepl(\"lts\", all_files)]\n",
    "all_files <- all_files[grepl(\"clean\", all_files)]\n",
    "all_files\n",
    "\n",
    "# Mean\n",
    "ndvi_lts_1km_mean_avrgPeriod <- stack(all_files[1])[[1]]\n",
    "for(fl in 2:length(all_files)){\n",
    "  ndvi_lts_1km_mean_avrgPeriod <- stack(ndvi_lts_1km_mean_avrgPeriod, stack(all_files[fl])[[1]])\n",
    "}\n",
    "\n",
    "beginCluster(cores2use)\n",
    "ndvi_lts_1km_mean_avrgPeriod <- clusterR(ndvi_lts_1km_mean_avrgPeriod, calc, args = list(fun = mean))\n",
    "endCluster()\n",
    "\n",
    "writeRaster(ndvi_lts_1km_mean_avrgPeriod, filename = paste0(\"ndvi_lts_1km_mean_avrg_\", \"<Period>\", \".tif\"), overwrite = TRUE)\n",
    "\n",
    "\n",
    "## SD\n",
    "SD_avrge <- function(x) {sqrt((sum(x^2)/length(x)))}   # square root of the pooled (or weighted) variances\n",
    "\n",
    "ndvi_lts_1km_sd_avrgPeriod <- stack(all_files[1])[[2]]\n",
    "for(fl in 2:length(all_files)){\n",
    "  ndvi_lts_1km_sd_avrgPeriod <- stack(ndvi_lts_1km_sd_avrgPeriod, stack(all_files[fl])[[2]])\n",
    "}\n",
    "ndvi_lts_1km_sd_avrgPeriod\n",
    "\n",
    "beginCluster(3)\n",
    "ndvi_lts_1km_sd_avrgPeriod <- clusterR(ndvi_lts_1km_sd_avrgPeriod, calc, args = list(fun = SD_avrge))\n",
    "endCluster()\n",
    "\n",
    "writeRaster(ndvi_lts_1km_sd_avrgPeriod, filename = paste0(\"ndvi_lts_1km_sd_avrg_\", \"<Period>\", \".tif\"), overwrite = TRUE)\n"
   ]
  },
  {
   "cell_type": "markdown",
   "metadata": {},
   "source": [
    "&nbsp;\n"
   ]
  },
  {
   "cell_type": "markdown",
   "metadata": {},
   "source": [
    "# Step 3: Calculating anomalies\n",
    "\n",
    "At this point, we can really start calculating the anomalies. But first, we load the needed libraries and define some parameters to be used along the process."
   ]
  },
  {
   "cell_type": "code",
   "execution_count": null,
   "metadata": {},
   "outputs": [],
   "source": [
    "library(raster)\n",
    "\n",
    "# 'rworldmap' will be used to get information of countries limits in case we want to subset the data using one or several countries/continents\n",
    "if(require(rworldmap) == FALSE){install.packages(\"rworldmap\", repos = \"https://cloud.r-project.org\"); library(rworldmap)} else {library(rworldmap)}"
   ]
  },
  {
   "cell_type": "markdown",
   "metadata": {},
   "source": [
    "&nbsp;"
   ]
  },
  {
   "cell_type": "markdown",
   "metadata": {},
   "source": [
    "There are different methods to calculate anomalies, which can be easily found in scientific bibliography. In this Notebook we will propose two methods: z-score and a simpler one.\n",
    "\n",
    "- Absolute differences with respect to the corresponding long-term average (see e.g. Meroni, et al., 2014; https://doi.org/10.1080/01431161.2014.883090)\n",
    "\n",
    "- Z-score (see e.g. Meroni et al., 2019; https://doi.org/10.1016/j.rse.2018.11.041):\n",
    "\n",
    "    Z = (NDVIactual - NDVI_LTSmean) / NDVI_LTSsd\n",
    "\n",
    "&nbsp;"
   ]
  },
  {
   "cell_type": "code",
   "execution_count": null,
   "metadata": {},
   "outputs": [],
   "source": [
    "anom_method <- \"simple\"\n",
    "anom_method <- \"zscore\""
   ]
  },
  {
   "cell_type": "markdown",
   "metadata": {},
   "source": [
    "&nbsp;"
   ]
  },
  {
   "cell_type": "markdown",
   "metadata": {},
   "source": [
    "We have to define a threshold for anomalies classification (i.e. distinguish what is an anomaly and what is not). We will define two threshols, so that we will have at the end 4 classes of anomalies (i.e. 2 positive and 2 negatives) plus a 5^th class belonging to the normal situation (i.e. no anomalies). The thresholds can be randomly defined by the user or based on the SD of the LTS."
   ]
  },
  {
   "cell_type": "code",
   "execution_count": null,
   "metadata": {},
   "outputs": [],
   "source": [
    "# Random thresholds\n",
    "anom1 <- 0.05\n",
    "anom2 <- 0.125\n",
    "\n",
    "# Or SD-based\n",
    "anom1 <- \"1*SD\"   # in the form value*SD\n",
    "anom2 <- \"2*SD\"   # in the form value*SD"
   ]
  },
  {
   "cell_type": "markdown",
   "metadata": {},
   "source": [
    "&nbsp;"
   ]
  },
  {
   "cell_type": "markdown",
   "metadata": {},
   "source": [
    "Now we define the country(ies) or the continent to focuss the analysis. *NULL* will define no selection. For the case we are using to illustrate this Notebook, we will set it as *NULL*, as we have already subset the AOI before."
   ]
  },
  {
   "cell_type": "code",
   "execution_count": null,
   "metadata": {},
   "outputs": [],
   "source": [
    "# Some examples\n",
    "cntry <- \"Africa\"\n",
    "cntry <- \"Europe\"\n",
    "cntry <- \"Kenya\"\n",
    "cntry <- c(\"Italy\", \"France\")\n",
    "cntry <- NULL"
   ]
  },
  {
   "cell_type": "markdown",
   "metadata": {},
   "source": [
    "&nbsp;"
   ]
  },
  {
   "cell_type": "markdown",
   "metadata": {},
   "source": [
    "Then, we call the World map, select the countries/continent and subset the *RasterLayers* we want to analyse (only if *cntry* is not *NULL*)."
   ]
  },
  {
   "cell_type": "code",
   "execution_count": null,
   "metadata": {},
   "outputs": [],
   "source": [
    "wrld_map <- getMap()\n",
    "\n",
    "selectedMap <- wrld_map[wrld_map$REGION %in% cntry | wrld_map$NAME %in% cntry, ]\n",
    "\n",
    "# Actual dekad(s)\n",
    "if(!is.null(cntry)){\n",
    "  ndvi_1km_rstr_clean <- crop(ndvi_1km_rstr_clean, extent(selectedMap))\n",
    "  ndvi_1km_rstr_clean <- mask(ndvi_1km_rstr_clean, selectedMap)\n",
    "}\n",
    "\n",
    "# LTS-mean\n",
    "ndvi_lts_1km_mean_rstr_clean <- ndvi_lts_1km_rstr_clean[[1]]\n",
    "names(ndvi_lts_1km_mean_rstr_clean) <- c(\"mean\")\n",
    "if(!is.null(cntry)){\n",
    "  ndvi_lts_1km_mean_rstr_clean <- crop(ndvi_lts_1km_mean_rstr_clean, extent(selectedMap))\n",
    "  ndvi_lts_1km_mean_rstr_clean <- mask(ndvi_lts_1km_mean_rstr_clean, selectedMap)\n",
    "}\n",
    "\n",
    "# LTS-SD\n",
    "ndvi_lts_1km_sd_rstr_clean <- ndvi_lts_1km_rstr_clean[[2]]\n",
    "names(ndvi_lts_1km_sd_rstr_clean) <- c(\"sd\")\n",
    "if(!is.null(cntry)){\n",
    "  ndvi_lts_1km_sd_rstr_clean <- crop(ndvi_lts_1km_sd_rstr_clean, extent(selectedMap))\n",
    "  ndvi_lts_1km_sd_rstr_clean <- mask(ndvi_lts_1km_sd_rstr_clean, selectedMap)\n",
    "}"
   ]
  },
  {
   "cell_type": "markdown",
   "metadata": {},
   "source": [
    "&nbsp;"
   ]
  },
  {
   "cell_type": "markdown",
   "metadata": {},
   "source": [
    "And, then, we can calculate the anomalies using the method defined above."
   ]
  },
  {
   "cell_type": "code",
   "execution_count": null,
   "metadata": {},
   "outputs": [],
   "source": [
    "if (anom_method == \"simple\"){\n",
    "  ndvi_1km_anomalies <- ndvi_1km_rstr_clean - ndvi_lts_1km_rstr_clean$mean\n",
    "}else if (anom_method == \"zscore\"){\n",
    "  ndvi_1km_anomalies <- (ndvi_1km_rstr_clean - ndvi_lts_1km_rstr_clean$mean) / ndvi_lts_1km_sd_rstr_clean$sd\n",
    "}else{\n",
    "  stop(\"define 'anom_method' as 'simple' or 'zscore\")\n",
    "}\n",
    "\n",
    "# Saving the results\n",
    "writeRaster(ndvi_1km_anomalies, \"ndvi_1km_anomalies.tif\", overwrite = TRUE)"
   ]
  },
  {
   "cell_type": "markdown",
   "metadata": {},
   "source": [
    "&nbsp;"
   ]
  },
  {
   "cell_type": "markdown",
   "metadata": {},
   "source": [
    "The next step is to apply the threshold to define each pixel with the level of anomaly (if any). The following code automatically calls the method and the thresholds defined previously and apply them taking into account the method used."
   ]
  },
  {
   "cell_type": "code",
   "execution_count": null,
   "metadata": {},
   "outputs": [],
   "source": [
    "if(is.numeric(anom1)){\n",
    "  name2 <- \"\"  # to be used later, when naming the output \n",
    "  \n",
    "  cuts <- c(minValue(ndvi_1km_anomalies), -anom2, -anom1, anom1, anom2, maxValue(ndvi_1km_anomalies))\n",
    "  reclass_mtrx <- as.data.frame(cuts)\n",
    "  names(reclass_mtrx) <- \"from\"\n",
    "  reclass_mtrx$to <- c(reclass_mtrx$from[-1], 1)\n",
    "  reclass_mtrx <- reclass_mtrx[1:(nrow(reclass_mtrx) - 1), ]\n",
    "  reclass_mtrx$becomes <- 1:5\n",
    "  \n",
    "  ndvi_1km_anomalies1 <- reclassify(ndvi_1km_anomalies, rcl = reclass_mtrx, filename = '', include.lowest = TRUE, right = FALSE)\n",
    "  \n",
    "}else{\n",
    "  name2 <- \"_sd\"  # to be used later, when naming the output \n",
    "  ndvi_1km_anomalies1 <- ndvi_1km_anomalies\n",
    "  \n",
    "  anom_val2 <- as.numeric(sub(\"\\\\*SD$\", \"\", anom2))\n",
    "  if(anom1 == \"SD\"){\n",
    "    anom_val1 <- 1\n",
    "  }else{\n",
    "    anom_val1 <- as.numeric(sub(\"\\\\*SD$\", \"\", anom1))\n",
    "  }\n",
    "\n",
    "  if (anom_method == \"simple\"){\n",
    "    ndvi_1km_anomalies1[ndvi_1km_anomalies < (-anom_val2 * ndvi_lts_1km_sd_rstr_clean)]   <- 1 \n",
    "    ndvi_1km_anomalies1[ndvi_1km_anomalies >= (-anom_val2 * ndvi_lts_1km_sd_rstr_clean)\n",
    "                        & ndvi_1km_anomalies < (-anom_val1 * ndvi_lts_1km_sd_rstr_clean)] <- 2 \n",
    "    ndvi_1km_anomalies1[ndvi_1km_anomalies >= (-anom_val1 * ndvi_lts_1km_sd_rstr_clean)\n",
    "                        & ndvi_1km_anomalies < (anom_val1 * ndvi_lts_1km_sd_rstr_clean)]  <- 3 \n",
    "    ndvi_1km_anomalies1[ndvi_1km_anomalies >= (anom_val1 * ndvi_lts_1km_sd_rstr_clean)\n",
    "                        & ndvi_1km_anomalies < (anom_val2 * ndvi_lts_1km_sd_rstr_clean)]  <- 4 \n",
    "    ndvi_1km_anomalies1[ndvi_1km_anomalies >= (anom_val2 * ndvi_lts_1km_sd_rstr_clean)]   <- 5\n",
    "  \n",
    "  }else if (anom_method == \"zscore\"){\n",
    "    ndvi_1km_anomalies1[ndvi_1km_anomalies < -anom_val2]   <- 1 \n",
    "    ndvi_1km_anomalies1[ndvi_1km_anomalies >= -anom_val2\n",
    "                        & ndvi_1km_anomalies < -anom_val1] <- 2 \n",
    "    ndvi_1km_anomalies1[ndvi_1km_anomalies >= -anom_val1 \n",
    "                        & ndvi_1km_anomalies < anom_val1]  <- 3 \n",
    "    ndvi_1km_anomalies1[ndvi_1km_anomalies >= anom_val1\n",
    "                        & ndvi_1km_anomalies < anom_val2]  <- 4 \n",
    "    ndvi_1km_anomalies1[ndvi_1km_anomalies >= anom_val2]   <- 5\n",
    "  }\n",
    "}  "
   ]
  },
  {
   "cell_type": "markdown",
   "metadata": {},
   "source": [
    "&nbsp;"
   ]
  },
  {
   "cell_type": "markdown",
   "metadata": {},
   "source": [
    "# Step 4: Plotting the results\n",
    "\n",
    "And, finally, we can plot the results."
   ]
  },
  {
   "cell_type": "code",
   "execution_count": null,
   "metadata": {
    "lines_to_next_cell": 0
   },
   "outputs": [],
   "source": [
    "# Setting the year of the analysis to be used when plotting\n",
    "year <- 2021\n",
    "\n",
    "jpeg(paste0(\"ndvi_1km_anomalies_\", anom_method, name2, \".jpg\"), width = 22, height = 16.5, units = \"cm\", res = 300)\n",
    "par(mar = c(6, 3, 4, 8), bty = \"n\")\n",
    "pal <- colorRampPalette(c(\"red3\", \"orange2\" , \"khaki2\", \"springgreen2\", \"springgreen4\"))\n",
    "par(xpd = FALSE)\n",
    "plot(ndvi_1km_anomalies1, col = pal(5), legend = FALSE)\n",
    "plot(wrld_map, add = TRUE, border = \"grey47\")\n",
    "par(xpd = TRUE)\n",
    "legend(\"right\",\n",
    "       title = paste0(\"Method: \", anom_method),\n",
    "       legend = c(paste0(\"High negative anomaly (< -\", anom2, \")\"),\n",
    "                  paste0(\"Low negative anomaly (< -\", anom1, \")\"),\n",
    "                  \"No anomaly\",\n",
    "                  paste0(\"Low positive anomaly (> \", anom1, \")\"),\n",
    "                  paste0(\"High positive anomaly (> \", anom2, \")\")),\n",
    "       fill = pal(5),\n",
    "       cex = 1,\n",
    "       inset = - 0.3)\n",
    "if(!is.null(cntry)){\n",
    "  name1 <- paste0(cntry, \" : \")\n",
    "}else{\n",
    "  name1 <- \"\"\n",
    "}\n",
    "title(main = paste0(name1, \"NDVI ANOMALIES\\nDekad(s): \", paste(dekads, collapse = \"; \"), \"\\nYear: \", year),\n",
    "      outer = TRUE,\n",
    "      line = - 3.5,\n",
    "      cex.main = 1.5)\n",
    "\n",
    "mtext(\"Current layer: <add info about the layer>\",\n",
    "      # e.g. \"Current layer: Dekad 21 March 2021. 'c_gls_NDVI300_202103210000_GLOBE_OLCI_V2.0.1.nc'\",\n",
    "      side = 1, line = 3, \n",
    "      adj = 0,\n",
    "      cex = 0.8)\n",
    "mtext(\"Reference layer: <add info about the layer>\", \n",
    "      # e.g. \"Reference layer: Dekad 21 March LTS (1999-2019) 'c_gls_NDVI-LTS_1999-2019-0321_GLOBE_VGT-PROBAV_V3.0.1.nc'\",\n",
    "      side = 1, line = 4, \n",
    "      adj = 0,\n",
    "      cex = 0.8)\n",
    "\n",
    "dev.off()\n"
   ]
  },
  {
   "cell_type": "markdown",
   "metadata": {},
   "source": [
    "\n",
    "\n",
    "\n",
    "\n"
   ]
  }
 ],
 "metadata": {
  "jupytext": {
   "cell_metadata_filter": "-all",
   "main_language": "R",
   "notebook_metadata_filter": "-all"
  }
 },
 "nbformat": 4,
 "nbformat_minor": 4
}
